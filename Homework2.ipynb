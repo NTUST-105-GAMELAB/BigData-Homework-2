{
 "cells": [
  {
   "cell_type": "markdown",
   "metadata": {},
   "source": [
    "# 作業2"
   ]
  },
  {
   "cell_type": "code",
   "execution_count": 85,
   "metadata": {},
   "outputs": [],
   "source": [
    "import pandas as pd\n",
    "import datetime as dt\n",
    "import numpy as np\n",
    "from sklearn.neural_network import MLPRegressor\n",
    "from sklearn.model_selection import train_test_split\n",
    "from sklearn.model_selection import GridSearchCV\n",
    "from sklearn.model_selection import cross_val_score\n",
    "from xgboost import XGBClassifier\n",
    "from plotly import plotly\n",
    "from plotly import graph_objs\n",
    "import pickle\n",
    "import plotly.tools as tls\n",
    "tls.set_credentials_file(username='ericmina83', api_key='lk2sUQGX2dOg9Y8i84w2')"
   ]
  },
  {
   "cell_type": "code",
   "execution_count": 28,
   "metadata": {},
   "outputs": [],
   "source": [
    "data = pd.read_csv('./LargeTrain.csv')\n",
    "     \n",
    "# get predictors and target titles\n",
    "target ='Class'\n",
    "predictors = [x for x in data.columns if x not in [target]]\n",
    "\n",
    "# prepare training data and testing data\n",
    "mask = np.random.rand(len(data)) < 0.8 \n",
    "training = data[mask]\n",
    "test = data[~mask]\n",
    "\n",
    "# prepare training predictors and target\n",
    "X = training[predictors]\n",
    "y = training[target]\n",
    "\n",
    "# initialize model\n",
    "xgb_model = XGBClassifier(\n",
    "    learning_rate = 0.1,\n",
    "    n_estimators = 200,\n",
    "    max_depth = 3,\n",
    "    min_child_weight = 3,\n",
    "    gamma = 0,\n",
    "    subsample = 0.8,\n",
    "    objective= 'binary:logistic',\n",
    "    colsample_bytree = 0.8,\n",
    "    nthread = 4,\n",
    "    scale_pos_weight = 1,\n",
    "    seed = 27)"
   ]
  },
  {
   "cell_type": "markdown",
   "metadata": {},
   "source": [
    "## Step 1: 尋找 最佳的 max_depth 和 min_child_weight"
   ]
  },
  {
   "cell_type": "code",
   "execution_count": 7,
   "metadata": {
    "scrolled": true
   },
   "outputs": [
    {
     "name": "stderr",
     "output_type": "stream",
     "text": [
      "C:\\Users\\Eric\\Anaconda3\\lib\\site-packages\\sklearn\\model_selection\\_search.py:667: DeprecationWarning: The grid_scores_ attribute was deprecated in version 0.18 in favor of the more elaborate cv_results_ attribute. The grid_scores_ attribute will not be available from 0.20\n",
      "  DeprecationWarning)\n"
     ]
    },
    {
     "data": {
      "text/plain": [
       "[mean: 0.99687, std: 0.00054, params: {'min_child_weight': 3, 'max_depth': 3},\n",
       " mean: 0.99650, std: 0.00111, params: {'min_child_weight': 5, 'max_depth': 3},\n",
       " mean: 0.99650, std: 0.00161, params: {'min_child_weight': 7, 'max_depth': 3},\n",
       " mean: 0.99669, std: 0.00098, params: {'min_child_weight': 3, 'max_depth': 5},\n",
       " mean: 0.99660, std: 0.00138, params: {'min_child_weight': 5, 'max_depth': 5},\n",
       " mean: 0.99687, std: 0.00114, params: {'min_child_weight': 7, 'max_depth': 5},\n",
       " mean: 0.99696, std: 0.00095, params: {'min_child_weight': 3, 'max_depth': 7},\n",
       " mean: 0.99696, std: 0.00099, params: {'min_child_weight': 5, 'max_depth': 7},\n",
       " mean: 0.99678, std: 0.00142, params: {'min_child_weight': 7, 'max_depth': 7}]"
      ]
     },
     "execution_count": 7,
     "metadata": {},
     "output_type": "execute_result"
    }
   ],
   "source": [
    "param_test1 = {\n",
    "    'max_depth':list(range(1,11,2)),\n",
    "    'min_child_weight':list(range(1,11,2))  \n",
    "}\n",
    "\n",
    "gsearch1 = GridSearchCV(\n",
    "    estimator = xgb_model,\n",
    "    param_grid = param_test1,\n",
    "    n_jobs = 4,\n",
    "    iid = False,\n",
    "    cv = 5)\n",
    "\n",
    "gsearch1.fit(X, y)\n",
    "gsearch1.grid_scores_"
   ]
  },
  {
   "cell_type": "code",
   "execution_count": 13,
   "metadata": {},
   "outputs": [
    {
     "name": "stdout",
     "output_type": "stream",
     "text": [
      "best params: {'min_child_weight': 5, 'max_depth': 7} best score:  0.996964285406\n"
     ]
    }
   ],
   "source": [
    "print(\"best params:\", gsearch1.best_params_, \"best score: \", gsearch1.best_score_)"
   ]
  },
  {
   "cell_type": "markdown",
   "metadata": {},
   "source": [
    "## Step 2: 尋找 最佳的 gamma"
   ]
  },
  {
   "cell_type": "code",
   "execution_count": 14,
   "metadata": {},
   "outputs": [
    {
     "name": "stderr",
     "output_type": "stream",
     "text": [
      "C:\\Users\\Eric\\Anaconda3\\lib\\site-packages\\sklearn\\model_selection\\_search.py:667: DeprecationWarning: The grid_scores_ attribute was deprecated in version 0.18 in favor of the more elaborate cv_results_ attribute. The grid_scores_ attribute will not be available from 0.20\n",
      "  DeprecationWarning)\n"
     ]
    },
    {
     "data": {
      "text/plain": [
       "[mean: 0.99696, std: 0.00099, params: {'gamma': 0.0},\n",
       " mean: 0.99678, std: 0.00096, params: {'gamma': 0.1},\n",
       " mean: 0.99669, std: 0.00118, params: {'gamma': 0.2},\n",
       " mean: 0.99687, std: 0.00102, params: {'gamma': 0.3},\n",
       " mean: 0.99650, std: 0.00111, params: {'gamma': 0.4}]"
      ]
     },
     "execution_count": 14,
     "metadata": {},
     "output_type": "execute_result"
    }
   ],
   "source": [
    "# replace the best model to xgb_model\n",
    "xgb_model = gsearch1.best_estimator_\n",
    "\n",
    "param_test2 = {\n",
    " 'gamma':[i/10.0 for i in range(0,5)]\n",
    "}\n",
    "\n",
    "gsearch2 = GridSearchCV(\n",
    "    estimator = xgb_model,\n",
    "    param_grid = param_test2,\n",
    "    n_jobs = 4,\n",
    "    iid = False, v \n",
    "    cv = 5)\n",
    "\n",
    "gsearch2.fit(X, y)\n",
    "gsearch2.grid_scores_"
   ]
  },
  {
   "cell_type": "markdown",
   "metadata": {},
   "source": [
    "## Step3: 尋找 最佳的 subsample 與 colsample_bytree"
   ]
  },
  {
   "cell_type": "code",
   "execution_count": 16,
   "metadata": {},
   "outputs": [
    {
     "name": "stderr",
     "output_type": "stream",
     "text": [
      "C:\\Users\\Eric\\Anaconda3\\lib\\site-packages\\sklearn\\model_selection\\_search.py:667: DeprecationWarning: The grid_scores_ attribute was deprecated in version 0.18 in favor of the more elaborate cv_results_ attribute. The grid_scores_ attribute will not be available from 0.20\n",
      "  DeprecationWarning)\n"
     ]
    },
    {
     "data": {
      "text/plain": [
       "[mean: 0.99632, std: 0.00113, params: {'colsample_bytree': 0.6, 'subsample': 0.6},\n",
       " mean: 0.99678, std: 0.00167, params: {'colsample_bytree': 0.6, 'subsample': 0.7},\n",
       " mean: 0.99678, std: 0.00130, params: {'colsample_bytree': 0.6, 'subsample': 0.8},\n",
       " mean: 0.99687, std: 0.00135, params: {'colsample_bytree': 0.6, 'subsample': 0.9},\n",
       " mean: 0.99641, std: 0.00134, params: {'colsample_bytree': 0.7, 'subsample': 0.6},\n",
       " mean: 0.99669, std: 0.00134, params: {'colsample_bytree': 0.7, 'subsample': 0.7},\n",
       " mean: 0.99660, std: 0.00107, params: {'colsample_bytree': 0.7, 'subsample': 0.8},\n",
       " mean: 0.99660, std: 0.00115, params: {'colsample_bytree': 0.7, 'subsample': 0.9},\n",
       " mean: 0.99696, std: 0.00132, params: {'colsample_bytree': 0.8, 'subsample': 0.6},\n",
       " mean: 0.99696, std: 0.00095, params: {'colsample_bytree': 0.8, 'subsample': 0.7},\n",
       " mean: 0.99696, std: 0.00099, params: {'colsample_bytree': 0.8, 'subsample': 0.8},\n",
       " mean: 0.99660, std: 0.00090, params: {'colsample_bytree': 0.8, 'subsample': 0.9},\n",
       " mean: 0.99641, std: 0.00160, params: {'colsample_bytree': 0.9, 'subsample': 0.6},\n",
       " mean: 0.99669, std: 0.00138, params: {'colsample_bytree': 0.9, 'subsample': 0.7},\n",
       " mean: 0.99687, std: 0.00125, params: {'colsample_bytree': 0.9, 'subsample': 0.8},\n",
       " mean: 0.99650, std: 0.00129, params: {'colsample_bytree': 0.9, 'subsample': 0.9}]"
      ]
     },
     "execution_count": 16,
     "metadata": {},
     "output_type": "execute_result"
    }
   ],
   "source": [
    "xgb_model = gsearch2.best_estimator_\n",
    "param_test4 = {\n",
    "     'subsample':[i/10.0 for i in range(6,10)],\n",
    "     'colsample_bytree':[i/10.0 for i in range(6,10)]\n",
    "}\n",
    "\n",
    "gsearch4 = GridSearchCV(\n",
    "    estimator = xgb_model,\n",
    "    param_grid = param_test4,\n",
    "    n_jobs = 4,\n",
    "    iid = False,\n",
    "    cv = 5)\n",
    "\n",
    "gsearch4.fit(X, y)\n",
    "gsearch4.grid_scores_"
   ]
  },
  {
   "cell_type": "code",
   "execution_count": 19,
   "metadata": {},
   "outputs": [
    {
     "name": "stderr",
     "output_type": "stream",
     "text": [
      "C:\\Users\\Eric\\Anaconda3\\lib\\site-packages\\sklearn\\model_selection\\_search.py:667: DeprecationWarning: The grid_scores_ attribute was deprecated in version 0.18 in favor of the more elaborate cv_results_ attribute. The grid_scores_ attribute will not be available from 0.20\n",
      "  DeprecationWarning)\n"
     ]
    },
    {
     "data": {
      "text/plain": [
       "[mean: 0.99696, std: 0.00099, params: {'reg_alpha': 1e-05},\n",
       " mean: 0.99696, std: 0.00107, params: {'reg_alpha': 0.01},\n",
       " mean: 0.99696, std: 0.00085, params: {'reg_alpha': 0.1},\n",
       " mean: 0.99678, std: 0.00120, params: {'reg_alpha': 1},\n",
       " mean: 0.98758, std: 0.00274, params: {'reg_alpha': 100}]"
      ]
     },
     "execution_count": 19,
     "metadata": {},
     "output_type": "execute_result"
    }
   ],
   "source": [
    "xgb_model = gsearch4.best_estimator_\n",
    "param_test6 = {\n",
    "    'reg_alpha':[1e-5, 1e-2, 0.1, 1, 100]\n",
    "}\n",
    "\n",
    "gsearch6 = GridSearchCV(\n",
    "    estimator = xgb_model,\n",
    "    param_grid = param_test6,\n",
    "    n_jobs = 4,\n",
    "    iid = False,\n",
    "    cv = 5)\n",
    "\n",
    "gsearch6.fit(X, y)\n",
    "gsearch6.grid_scores_"
   ]
  },
  {
   "cell_type": "code",
   "execution_count": 27,
   "metadata": {},
   "outputs": [
    {
     "data": {
      "text/plain": [
       "XGBClassifier(base_score=0.5, colsample_bylevel=1, colsample_bytree=0.8,\n",
       "       gamma=0.0, learning_rate=0.1, max_delta_step=0, max_depth=7,\n",
       "       min_child_weight=5, missing=None, n_estimators=250, nthread=4,\n",
       "       objective='multi:softprob', reg_alpha=0, reg_lambda=1,\n",
       "       scale_pos_weight=1, seed=27, silent=True, subsample=0.8)"
      ]
     },
     "execution_count": 27,
     "metadata": {},
     "output_type": "execute_result"
    }
   ],
   "source": [
    "xgb_model.score"
   ]
  },
  {
   "cell_type": "code",
   "execution_count": 34,
   "metadata": {},
   "outputs": [
    {
     "data": {
      "text/plain": [
       "{'type': 'heatmap'}"
      ]
     },
     "execution_count": 34,
     "metadata": {},
     "output_type": "execute_result"
    }
   ],
   "source": []
  },
  {
   "cell_type": "code",
   "execution_count": null,
   "metadata": {
    "collapsed": true
   },
   "outputs": [],
   "source": []
  }
 ],
 "metadata": {
  "kernelspec": {
   "display_name": "Python 3",
   "language": "python",
   "name": "python3"
  },
  "language_info": {
   "codemirror_mode": {
    "name": "ipython",
    "version": 3
   },
   "file_extension": ".py",
   "mimetype": "text/x-python",
   "name": "python",
   "nbconvert_exporter": "python",
   "pygments_lexer": "ipython3",
   "version": "3.5.3"
  }
 },
 "nbformat": 4,
 "nbformat_minor": 2
}
